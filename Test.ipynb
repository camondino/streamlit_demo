{
 "cells": [
  {
   "cell_type": "code",
   "execution_count": null,
   "metadata": {},
   "outputs": [],
   "source": []
  },
  {
   "cell_type": "code",
   "execution_count": null,
   "metadata": {},
   "outputs": [],
   "source": [
    "## Saudi Data"
   ]
  },
  {
   "cell_type": "markdown",
   "metadata": {},
   "source": [
    "## Import Libraries"
   ]
  },
  {
   "cell_type": "code",
   "execution_count": 1,
   "metadata": {},
   "outputs": [],
   "source": [
    "import pandas as pd\n",
    "import numpy as np\n",
    "from matplotlib import pyplot as plt"
   ]
  },
  {
   "cell_type": "markdown",
   "metadata": {},
   "source": [
    "## saudi Jobs Data"
   ]
  },
  {
   "cell_type": "code",
   "execution_count": 2,
   "metadata": {},
   "outputs": [],
   "source": [
    "saudi_jobs_data= pd.read_csv(\"saudi_jobs.csv\")"
   ]
  },
  {
   "cell_type": "code",
   "execution_count": 3,
   "metadata": {},
   "outputs": [
    {
     "data": {
      "text/html": [
       "<div>\n",
       "<style scoped>\n",
       "    .dataframe tbody tr th:only-of-type {\n",
       "        vertical-align: middle;\n",
       "    }\n",
       "\n",
       "    .dataframe tbody tr th {\n",
       "        vertical-align: top;\n",
       "    }\n",
       "\n",
       "    .dataframe thead th {\n",
       "        text-align: right;\n",
       "    }\n",
       "</style>\n",
       "<table border=\"1\" class=\"dataframe\">\n",
       "  <thead>\n",
       "    <tr style=\"text-align: right;\">\n",
       "      <th></th>\n",
       "      <th>title</th>\n",
       "      <th>company</th>\n",
       "      <th>company_id</th>\n",
       "      <th>job_id</th>\n",
       "      <th>area</th>\n",
       "      <th>country</th>\n",
       "      <th>w_type</th>\n",
       "      <th>posted</th>\n",
       "      <th>applicants</th>\n",
       "      <th>role</th>\n",
       "      <th>level</th>\n",
       "      <th>employees</th>\n",
       "      <th>industry</th>\n",
       "      <th>recr</th>\n",
       "      <th>additional_info</th>\n",
       "      <th>description</th>\n",
       "      <th>hiringteam</th>\n",
       "    </tr>\n",
       "  </thead>\n",
       "  <tbody>\n",
       "    <tr>\n",
       "      <th>0</th>\n",
       "      <td>Quality Systems Engineer.</td>\n",
       "      <td>Lucid Motors</td>\n",
       "      <td>1684122.0</td>\n",
       "      <td>3181048335</td>\n",
       "      <td>Jeddah, Makkah</td>\n",
       "      <td>Saudi Arabia</td>\n",
       "      <td>On-site</td>\n",
       "      <td>23-07-22</td>\n",
       "      <td>54.0</td>\n",
       "      <td>Full-time</td>\n",
       "      <td>NaN</td>\n",
       "      <td>1,001-5,000  � motor vehicle</td>\n",
       "      <td>Manufacturing</td>\n",
       "      <td>No</td>\n",
       "      <td>1,001-5,000 employees � Motor Vehicle Manufact...</td>\n",
       "      <td>Leading the future in luxury electric and mobi...</td>\n",
       "      <td>NaN</td>\n",
       "    </tr>\n",
       "    <tr>\n",
       "      <th>1</th>\n",
       "      <td>Audio Transcriber | Work from Home</td>\n",
       "      <td>Appen</td>\n",
       "      <td>2073870.0</td>\n",
       "      <td>3172833688</td>\n",
       "      <td>NaN</td>\n",
       "      <td>EMEA</td>\n",
       "      <td>Remote</td>\n",
       "      <td>20-07-22</td>\n",
       "      <td>200.0</td>\n",
       "      <td>Part-time</td>\n",
       "      <td>� Entry level</td>\n",
       "      <td>501-1,000  � it services and it</td>\n",
       "      <td>Consulting</td>\n",
       "      <td>Actively recruiting</td>\n",
       "      <td>NaN</td>\n",
       "      <td>Listen to audio files, categorize the audio an...</td>\n",
       "      <td>https://www.linkedin.com/in/ruby-mendoza-rpm-7...</td>\n",
       "    </tr>\n",
       "    <tr>\n",
       "      <th>2</th>\n",
       "      <td>Validation With Edits | Transcription</td>\n",
       "      <td>Appen</td>\n",
       "      <td>2073870.0</td>\n",
       "      <td>3172825814</td>\n",
       "      <td>NaN</td>\n",
       "      <td>EMEA</td>\n",
       "      <td>Remote</td>\n",
       "      <td>20-07-22</td>\n",
       "      <td>NaN</td>\n",
       "      <td>Part-time</td>\n",
       "      <td>� Entry level</td>\n",
       "      <td>501-1,000  � it services and it</td>\n",
       "      <td>Consulting</td>\n",
       "      <td>Actively recruiting</td>\n",
       "      <td>NaN</td>\n",
       "      <td>Contribute with data that help build state-of-...</td>\n",
       "      <td>https://www.linkedin.com/in/ruby-mendoza-rpm-7...</td>\n",
       "    </tr>\n",
       "    <tr>\n",
       "      <th>3</th>\n",
       "      <td>Transcriber | Work from Home</td>\n",
       "      <td>Appen</td>\n",
       "      <td>2073870.0</td>\n",
       "      <td>3176634904</td>\n",
       "      <td>NaN</td>\n",
       "      <td>EMEA</td>\n",
       "      <td>Remote</td>\n",
       "      <td>22-07-22</td>\n",
       "      <td>NaN</td>\n",
       "      <td>Full-time</td>\n",
       "      <td>� Entry level</td>\n",
       "      <td>501-1,000  � it services and it</td>\n",
       "      <td>Consulting</td>\n",
       "      <td>Actively recruiting</td>\n",
       "      <td>NaN</td>\n",
       "      <td>About Appen\\r\\n\\r\\nAppen collects and labels i...</td>\n",
       "      <td>https://www.linkedin.com/in/ruby-mendoza-rpm-7...</td>\n",
       "    </tr>\n",
       "    <tr>\n",
       "      <th>4</th>\n",
       "      <td>Senior QA Engineer, Gigster</td>\n",
       "      <td>Gigster</td>\n",
       "      <td>6582187.0</td>\n",
       "      <td>3171720649</td>\n",
       "      <td>NaN</td>\n",
       "      <td>EMEA</td>\n",
       "      <td>Remote</td>\n",
       "      <td>20-07-22</td>\n",
       "      <td>200.0</td>\n",
       "      <td>Contract</td>\n",
       "      <td>� Mid-Senior level</td>\n",
       "      <td>11-50  � software</td>\n",
       "      <td>Development</td>\n",
       "      <td>Actively recruiting</td>\n",
       "      <td>NaN</td>\n",
       "      <td>Do you care about quality? Are you the guy at ...</td>\n",
       "      <td>https://www.linkedin.com/in/anareghina-moldova...</td>\n",
       "    </tr>\n",
       "  </tbody>\n",
       "</table>\n",
       "</div>"
      ],
      "text/plain": [
       "                                   title       company  company_id  \\\n",
       "0              Quality Systems Engineer.  Lucid Motors   1684122.0   \n",
       "1     Audio Transcriber | Work from Home         Appen   2073870.0   \n",
       "2  Validation With Edits | Transcription         Appen   2073870.0   \n",
       "3           Transcriber | Work from Home         Appen   2073870.0   \n",
       "4            Senior QA Engineer, Gigster       Gigster   6582187.0   \n",
       "\n",
       "       job_id             area         country   w_type    posted  applicants  \\\n",
       "0  3181048335   Jeddah, Makkah   Saudi Arabia   On-site  23-07-22        54.0   \n",
       "1  3172833688              NaN           EMEA    Remote  20-07-22       200.0   \n",
       "2  3172825814              NaN           EMEA    Remote  20-07-22         NaN   \n",
       "3  3176634904              NaN           EMEA    Remote  22-07-22         NaN   \n",
       "4  3171720649              NaN           EMEA    Remote  20-07-22       200.0   \n",
       "\n",
       "        role               level                        employees  \\\n",
       "0  Full-time                 NaN     1,001-5,000  � motor vehicle   \n",
       "1  Part-time       � Entry level  501-1,000  � it services and it   \n",
       "2  Part-time       � Entry level  501-1,000  � it services and it   \n",
       "3  Full-time       � Entry level  501-1,000  � it services and it   \n",
       "4   Contract  � Mid-Senior level                11-50  � software   \n",
       "\n",
       "        industry                 recr  \\\n",
       "0  Manufacturing                   No   \n",
       "1     Consulting  Actively recruiting   \n",
       "2     Consulting  Actively recruiting   \n",
       "3     Consulting  Actively recruiting   \n",
       "4    Development  Actively recruiting   \n",
       "\n",
       "                                     additional_info  \\\n",
       "0  1,001-5,000 employees � Motor Vehicle Manufact...   \n",
       "1                                                NaN   \n",
       "2                                                NaN   \n",
       "3                                                NaN   \n",
       "4                                                NaN   \n",
       "\n",
       "                                         description  \\\n",
       "0  Leading the future in luxury electric and mobi...   \n",
       "1  Listen to audio files, categorize the audio an...   \n",
       "2  Contribute with data that help build state-of-...   \n",
       "3  About Appen\\r\\n\\r\\nAppen collects and labels i...   \n",
       "4  Do you care about quality? Are you the guy at ...   \n",
       "\n",
       "                                          hiringteam  \n",
       "0                                                NaN  \n",
       "1  https://www.linkedin.com/in/ruby-mendoza-rpm-7...  \n",
       "2  https://www.linkedin.com/in/ruby-mendoza-rpm-7...  \n",
       "3  https://www.linkedin.com/in/ruby-mendoza-rpm-7...  \n",
       "4  https://www.linkedin.com/in/anareghina-moldova...  "
      ]
     },
     "execution_count": 3,
     "metadata": {},
     "output_type": "execute_result"
    }
   ],
   "source": [
    "saudi_jobs_data.head()"
   ]
  },
  {
   "cell_type": "code",
   "execution_count": 4,
   "metadata": {},
   "outputs": [
    {
     "name": "stdout",
     "output_type": "stream",
     "text": [
      "Please do not apply for this role if you are not physically located in Europe, Africa, or the Middle East (UTC-1 to UTC+3).\n",
      "\n",
      "\n",
      "\n",
      "\n",
      "While this is a remote position, we can not consider candidates that are not based in these regions. You can find a detailed explanation in our Recruitment FAQs.\n",
      "\n",
      "\n",
      "\n",
      "\n",
      "At Hotjar, we�re building Product Experience Insights software for businesses selling online. We make it easy for them to go beyond traditional web analytics and understand what users are really doing on their site. As part of our Engineering team, you'll work on the exciting challenges that come with large-scale web traffic and analytics.\n",
      "\n",
      "\n",
      "\n",
      "\n",
      "We work in an agile and highly collaborative environment, 100% remotely, and challenge the norms of traditional business leadership. Our focus is on true transparency and respect.\n",
      "\n",
      "\n",
      "\n",
      "\n",
      "We're looking for enthusiastic and resourceful security engineers who are passionate about building great products. Someone who loves being part of a team, whilst enjoying the autonomous nature of working remotely.\n",
      "\n",
      "\n",
      "\n",
      "\n",
      "About the job:\n",
      "\n",
      "You'll work as part of an agile, cross-functional team with other engineers.\n",
      "You will create production-grade Python code and implement authentication, authorization, and security solutions in our product.\n",
      "Build the next version of Hotjar�s authentication and authorization layers.\n",
      "Collaborate with engineers and have involvement in technical decision-making.\n",
      "Build and take full ownership of components of the Hotjar platform, in addition to building and maintaining dashboards monitoring essential application and business metrics.\n",
      "Mentor other team members through pair programming, code reviews, and ad-hoc assistance.\n",
      "Track new browser changes, vulnerabilities, and security updates that can impact the security of our application.\n",
      "Liaise with our Security Specialist to ensure we address incoming reports from our bug bounty program and meet our security SLAs.\n",
      "\n",
      "\n",
      "\n",
      "\n",
      "Requirements:\n",
      "\n",
      "5+ years of background in software engineering.\n",
      "Experience using Git, Python, and PostgreSQL is a must.\n",
      "Experience using Nginx, Amazon Web Services, and Kubernetes is a plus.\n",
      "Experience building OAuth, SAML, SSO, and related solutions is a must.\n",
      "Experience pentesting, security CTFs, as well as triaging and fixing browser-based vulnerabilities is a plus.\n",
      "Fluent in English with excellent interpersonal skills.\n",
      "Desire to work in a respectful, transparent, and collaborative work environment, following Hotjar�s company values, culture, and ways of working.\n",
      "Will submit to a background check, confidentially processed by our third party.\n",
      "\n",
      "\n",
      "\n",
      "\n",
      "\n",
      "\n",
      "\n",
      "Compensation Range:\n",
      "\n",
      "\n",
      "\n",
      "\n",
      "The compensation range for a team member in this role is �80,000 to �105,000 annually where the offer typically falls in the range of �80,000 to �90,000. Our ranges are established after performing market research and the specific compensation amount of the offer will be determined based on relative experience, skills, and equity across the team. We encourage all candidates to read our Recruitment FAQs to further understand our approach to compensation and how we structure our contracts.\n",
      "\n",
      "In addition to the monetary compensation, we provide all team members with an assortment of unique and popular perks valued at more than �10,000 a year, plus stock options and 40 days of annual leave. These have been chosen to reflect our values and ideals, be it encouraging constant learning with our Personal Development Budget, a great work/life balance with the Holiday Budget, or a happy, healthy team with our Wellbeing Budget.\n",
      "\n",
      "\n",
      "\n",
      "\n",
      "Hotjar pledges to be a harassment-free and discrimination-free company, committed to equal opportunity. We believe people from different backgrounds, with different identities and experiences, make our product, and our company, better.\n"
     ]
    }
   ],
   "source": [
    "for desc in saudi_jobs_data.description[5:]:\n",
    "    print(desc)\n",
    "    break"
   ]
  },
  {
   "cell_type": "markdown",
   "metadata": {},
   "source": [
    "## Saudi Job Data  \n",
    "What are the most common Job Titles in Saudi?"
   ]
  },
  {
   "cell_type": "code",
   "execution_count": 5,
   "metadata": {},
   "outputs": [
    {
     "data": {
      "text/plain": [
       "{'hr': 11,\n",
       " 'data engineer': 11,\n",
       " 'data collect': 15,\n",
       " 'architect': 21,\n",
       " 'procurement': 12,\n",
       " 'consultant': 26}"
      ]
     },
     "execution_count": 5,
     "metadata": {},
     "output_type": "execute_result"
    }
   ],
   "source": [
    "titles_list = [\"HR\", \"IT support\", \"Data engineer\", 'NFT', 'Crypto', 'Software engineer', 'Computer science', 'Data Analyst', 'Business Analyst', 'Assurance Sales', 'Translation', 'Web manager', 'Project manager', 'Real Estate', 'Field engineer',\n",
    "    'Data scientist', 'Teacher Marketing', 'Data collect', 'Quality Assurance Engineer', 'Accounting', 'Receptionist', 'Waiter', 'Architect',\n",
    "    'Finance', 'Procurement', 'Web developer', 'Big Data', 'Tutor','Supply chain',' Store keeper', 'Fashion consultant', 'Site engineer', 'Risk Linguist', 'Civil engineer', 'Consultant']\n",
    "\n",
    "titles_dict = {}\n",
    "\n",
    "for title in titles_list:\n",
    "    title = title.lower()\n",
    "    titles_dict[title] = 0\n",
    "\n",
    "for title in saudi_jobs_data.title:\n",
    "    title = title.lower()\n",
    "    for x in titles_dict.keys():\n",
    "        if(x in title):\n",
    "            titles_dict[x] +=1\n",
    "\n",
    "\n",
    "\n",
    "selected_titles_dict = {}\n",
    "\n",
    "for x in titles_dict.keys():\n",
    "    if(titles_dict[x] >=10):\n",
    "        selected_titles_dict[x] = titles_dict[x]\n",
    "\n",
    "selected_titles_dict"
   ]
  },
  {
   "cell_type": "code",
   "execution_count": null,
   "metadata": {},
   "outputs": [],
   "source": [
    "x = [1,2,3]"
   ]
  },
  {
   "cell_type": "code",
   "execution_count": 15,
   "metadata": {},
   "outputs": [
    {
     "data": {
      "image/png": "[encoded data removed]",
      "text/plain": [
       "<Figure size 1800x720 with 1 Axes>"
      ]
     },
     "metadata": {
      "needs_background": "light"
     },
     "output_type": "display_data"
    }
   ],
   "source": [
    "fig1, ax1 = plt.subplots(figsize = (25, 10))\n",
    "\n",
    "x = list(selected_titles_dict.keys())\n",
    "y = list(selected_titles_dict.values())\n",
    "y = [z*3 for z in y]\n",
    "\n",
    "ax1.bar(x, y , width=0.4)\n",
    "plt.show()"
   ]
  },
  {
   "cell_type": "code",
   "execution_count": 7,
   "metadata": {},
   "outputs": [
    {
     "data": {
      "image/png": "[encoded data removed]",
      "text/plain": [
       "<Figure size 432x288 with 1 Axes>"
      ]
     },
     "metadata": {},
     "output_type": "display_data"
    }
   ],
   "source": [
    "fig1, ax1 = plt.subplots()\n",
    "ax1.pie(selected_titles_dict.values(),  labels=selected_titles_dict.keys(),autopct='%1.1f%%')\n",
    "ax1.axis('equal')  # Equal aspect ratio ensures that pie is drawn as a circle.\n",
    "\n",
    "plt.show()"
   ]
  },
  {
   "cell_type": "code",
   "execution_count": 17,
   "metadata": {},
   "outputs": [
    {
     "data": {
      "text/plain": [
       "{'ai': 855,\n",
       " 'it': 935,\n",
       " 'inclusive culture': 86,\n",
       " 'innovation': 210,\n",
       " 'leadership': 166,\n",
       " 'safe': 181,\n",
       " 'security': 131}"
      ]
     },
     "execution_count": 17,
     "metadata": {},
     "output_type": "execute_result"
    }
   ],
   "source": [
    "desc_keywords_list = ['Work from home', 'Flexible hours', 'Qualification quiz', 'AI', 'QA', 'Quality Assurance', 'IT', 'Debugging code', 'problem-solving', 'internet connection', 'diverse culture', \n",
    "'inclusive culture', 'global environment', 'positive energy', 'innovation', 'leadership', 'friendly environment', 'safe', 'security']\n",
    "\n",
    "desc_keywords_dict = {}\n",
    "\n",
    "for x in desc_keywords_list:\n",
    "    x = x.lower()\n",
    "    desc_keywords_dict[x] = 0\n",
    "\n",
    "for desc in saudi_jobs_data.description:\n",
    "    if(type(desc) == float):\n",
    "        continue\n",
    "    elif(type(desc) == str):\n",
    "        desc = desc.lower()\n",
    "        for x in desc_keywords_dict.keys():\n",
    "            if(x in desc):\n",
    "                desc_keywords_dict[x] +=1\n",
    "\n",
    "selected_desc_dict = {}\n",
    "\n",
    "for x in desc_keywords_dict.keys():\n",
    "    if(desc_keywords_dict[x] >=80):\n",
    "        selected_desc_dict[x] = desc_keywords_dict[x]\n",
    "\n",
    "selected_desc_dict"
   ]
  },
  {
   "cell_type": "markdown",
   "metadata": {},
   "source": [
    "## What are the most Needed Skills?"
   ]
  },
  {
   "cell_type": "code",
   "execution_count": 20,
   "metadata": {},
   "outputs": [
    {
     "data": {
      "text/plain": [
       "{'excel': 376,\n",
       " 'english': 350,\n",
       " 'engineering': 282,\n",
       " 'communication': 455,\n",
       " 'hr': 524,\n",
       " 'computer': 226,\n",
       " 'ai': 855}"
      ]
     },
     "execution_count": 20,
     "metadata": {},
     "output_type": "execute_result"
    }
   ],
   "source": [
    "skills_list = ['Quality Management System', 'QMS' ,'Analytical skills', 'Technical skills', 'Vaccination', 'Internal audit', 'Verbal skills', 'MS Office tools', 'MS-Project', 'Word',\n",
    " 'Excel', 'PowerPoint', 'Visio', 'Creative', 'Energetic', 'Self-motivated', 'English', 'Arabic', 'Organized', 'BS in engineering', \n",
    " 'Engineering', 'Machine Learning', 'ML', 'project documentation', 'test artifacts creation', 'Jira', 'Testrails', 'Communication', 'Stress-resistant',\n",
    "  'software testing', 'python', 'software engineering', 'coding', 'SQL', 'OAuth', 'SAML', 'SSO', 'speech recognition technology', 'Computer Science',\n",
    "   'JAVA', 'software development', 'programming skills', 'blockchain',  'Microsoft Windows', 'Microsoft', 'Windows Live ID', 'research skills',  'analytical', 'comprehension',\n",
    "'HR', 'decision making', 'IT support', 'customer serviceskills',  'Windows', 'network troubleshooting', 'HTML', 'JavaScript', 'troubleshooting skills', 'spark', \n",
    "'engineering degree', 'organizational skills', 'technical knowledge', 'computer', 'Artificial Intelligence',\"ai\"]\n",
    "\n",
    "skills_dict = {}\n",
    "for x in skills_list:\n",
    "    x = x.lower()\n",
    "    skills_dict[x] = 0\n",
    "\n",
    "for desc in saudi_jobs_data.description:\n",
    "    if(type(desc) == float):\n",
    "        continue\n",
    "    elif(type(desc) == str):\n",
    "        desc = desc.lower()\n",
    "        for x in skills_dict.keys():\n",
    "            if(x in desc):\n",
    "                skills_dict[x] +=1\n",
    "\n",
    "skills_dict\n",
    "\n",
    "selected_skills_dict = {}\n",
    "\n",
    "for x in skills_dict.keys():\n",
    "    if(skills_dict[x] >=200):\n",
    "        selected_skills_dict[x] = skills_dict[x]\n",
    "\n",
    "selected_skills_dict"
   ]
  },
  {
   "cell_type": "code",
   "execution_count": 21,
   "metadata": {},
   "outputs": [
    {
     "data": {
      "image/png": "[encoded data removed]",
      "text/plain": [
       "<Figure size 1800x720 with 1 Axes>"
      ]
     },
     "metadata": {
      "needs_background": "light"
     },
     "output_type": "display_data"
    }
   ],
   "source": [
    "fig1, ax1 = plt.subplots(figsize = (25, 10))\n",
    "\n",
    "x = list(selected_skills_dict.keys())\n",
    "y = list(selected_skills_dict.values())\n",
    "y = [z*3 for z in y]\n",
    "ax1.bar(x, y , width=0.4)\n",
    "\n",
    "plt.show()"
   ]
  },
  {
   "cell_type": "code",
   "execution_count": 22,
   "metadata": {},
   "outputs": [
    {
     "data": {
      "image/png": "[encoded data removed]",
      "text/plain": [
       "<Figure size 432x288 with 1 Axes>"
      ]
     },
     "metadata": {},
     "output_type": "display_data"
    }
   ],
   "source": [
    "fig1, ax1 = plt.subplots()\n",
    "ax1.pie(selected_skills_dict.values(),  labels=selected_skills_dict.keys(),autopct='%1.1f%%')\n",
    "ax1.axis('equal')\n",
    "\n",
    "plt.show()"
   ]
  }
 ],
 "metadata": {
  "kernelspec": {
   "display_name": "Python 3.9.13 64-bit",
   "language": "python",
   "name": "python3"
  },
  "language_info": {
   "codemirror_mode": {
    "name": "ipython",
    "version": 3
   },
   "file_extension": ".py",
   "mimetype": "text/x-python",
   "name": "python",
   "nbconvert_exporter": "python",
   "pygments_lexer": "ipython3",
   "version": "3.9.13"
  },
  "orig_nbformat": 4,
  "vscode": {
   "interpreter": {
    "hash": "aee8b7b246df8f9039afb4144a1f6fd8d2ca17a180786b69acc140d282b71a49"
   }
  }
 },
 "nbformat": 4,
 "nbformat_minor": 2
}
